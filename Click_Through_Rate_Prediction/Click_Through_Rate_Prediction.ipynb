{
 "cells": [
  {
   "cell_type": "markdown",
   "metadata": {},
   "source": [
    "# Problem 2\n",
    "\n",
    "The data is a subset of data from the [Click-Through Rate Prediction](https://www.kaggle.com/c/avazu-ctr-prediction/data). You will explore using Logistic Regression and SVM for this problem.\n",
    "\n",
    "Data fields\n",
    "- id: ad identifier\n",
    "- click: 0/1 for non-click/click\n",
    "- hour: format is YYMMDDHH, so 14091123 means 23:00 on Sept. 11, 2014 UTC.\n",
    "- C1 -- anonymized categorical variable\n",
    "- banner_pos\n",
    "- site_id\n",
    "- site_domain\n",
    "- site_category\n",
    "- app_id\n",
    "- app_domain\n",
    "- app_category\n",
    "- device_id\n",
    "- device_ip\n",
    "- device_model\n",
    "- device_type\n",
    "- device_conn_type\n",
    "- C14-C21 -- anonymized categorical variables\n",
    "\n",
    "The input variables are 'hour' up to 'C21', however, we will not use all of them.\n",
    "The output variable is 'click', which is a binary variable.\n",
    "\n",
    "Let's first read the data!"
   ]
  },
  {
   "cell_type": "code",
   "execution_count": 63,
   "metadata": {
    "collapsed": true
   },
   "outputs": [],
   "source": [
    "import pandas as pd\n",
    "data = pd.read_csv('trainsubset.csv')\n"
   ]
  },
  {
   "cell_type": "markdown",
   "metadata": {},
   "source": [
    "It is recommended to use only the first 10000 data for training the data. We will talk about the techniques to handle big data later"
   ]
  },
  {
   "cell_type": "code",
   "execution_count": 64,
   "metadata": {
    "collapsed": true
   },
   "outputs": [],
   "source": [
    "data = data.head(10000)"
   ]
  },
  {
   "cell_type": "code",
   "execution_count": 65,
   "metadata": {},
   "outputs": [
    {
     "data": {
      "text/html": [
       "<div>\n",
       "<style>\n",
       "    .dataframe thead tr:only-child th {\n",
       "        text-align: right;\n",
       "    }\n",
       "\n",
       "    .dataframe thead th {\n",
       "        text-align: left;\n",
       "    }\n",
       "\n",
       "    .dataframe tbody tr th {\n",
       "        vertical-align: top;\n",
       "    }\n",
       "</style>\n",
       "<table border=\"1\" class=\"dataframe\">\n",
       "  <thead>\n",
       "    <tr style=\"text-align: right;\">\n",
       "      <th></th>\n",
       "      <th>id</th>\n",
       "      <th>click</th>\n",
       "      <th>hour</th>\n",
       "      <th>C1</th>\n",
       "      <th>banner_pos</th>\n",
       "      <th>site_id</th>\n",
       "      <th>site_domain</th>\n",
       "      <th>site_category</th>\n",
       "      <th>app_id</th>\n",
       "      <th>app_domain</th>\n",
       "      <th>...</th>\n",
       "      <th>device_type</th>\n",
       "      <th>device_conn_type</th>\n",
       "      <th>C14</th>\n",
       "      <th>C15</th>\n",
       "      <th>C16</th>\n",
       "      <th>C17</th>\n",
       "      <th>C18</th>\n",
       "      <th>C19</th>\n",
       "      <th>C20</th>\n",
       "      <th>C21</th>\n",
       "    </tr>\n",
       "  </thead>\n",
       "  <tbody>\n",
       "    <tr>\n",
       "      <th>0</th>\n",
       "      <td>1000009418151094273</td>\n",
       "      <td>0</td>\n",
       "      <td>14102100</td>\n",
       "      <td>1005</td>\n",
       "      <td>0</td>\n",
       "      <td>1fbe01fe</td>\n",
       "      <td>f3845767</td>\n",
       "      <td>28905ebd</td>\n",
       "      <td>ecad2386</td>\n",
       "      <td>7801e8d9</td>\n",
       "      <td>...</td>\n",
       "      <td>1</td>\n",
       "      <td>2</td>\n",
       "      <td>15706</td>\n",
       "      <td>320</td>\n",
       "      <td>50</td>\n",
       "      <td>1722</td>\n",
       "      <td>0</td>\n",
       "      <td>35</td>\n",
       "      <td>-1</td>\n",
       "      <td>79</td>\n",
       "    </tr>\n",
       "    <tr>\n",
       "      <th>1</th>\n",
       "      <td>10000169349117863715</td>\n",
       "      <td>0</td>\n",
       "      <td>14102100</td>\n",
       "      <td>1005</td>\n",
       "      <td>0</td>\n",
       "      <td>1fbe01fe</td>\n",
       "      <td>f3845767</td>\n",
       "      <td>28905ebd</td>\n",
       "      <td>ecad2386</td>\n",
       "      <td>7801e8d9</td>\n",
       "      <td>...</td>\n",
       "      <td>1</td>\n",
       "      <td>0</td>\n",
       "      <td>15704</td>\n",
       "      <td>320</td>\n",
       "      <td>50</td>\n",
       "      <td>1722</td>\n",
       "      <td>0</td>\n",
       "      <td>35</td>\n",
       "      <td>100084</td>\n",
       "      <td>79</td>\n",
       "    </tr>\n",
       "    <tr>\n",
       "      <th>2</th>\n",
       "      <td>10000371904215119486</td>\n",
       "      <td>0</td>\n",
       "      <td>14102100</td>\n",
       "      <td>1005</td>\n",
       "      <td>0</td>\n",
       "      <td>1fbe01fe</td>\n",
       "      <td>f3845767</td>\n",
       "      <td>28905ebd</td>\n",
       "      <td>ecad2386</td>\n",
       "      <td>7801e8d9</td>\n",
       "      <td>...</td>\n",
       "      <td>1</td>\n",
       "      <td>0</td>\n",
       "      <td>15704</td>\n",
       "      <td>320</td>\n",
       "      <td>50</td>\n",
       "      <td>1722</td>\n",
       "      <td>0</td>\n",
       "      <td>35</td>\n",
       "      <td>100084</td>\n",
       "      <td>79</td>\n",
       "    </tr>\n",
       "    <tr>\n",
       "      <th>3</th>\n",
       "      <td>10000640724480838376</td>\n",
       "      <td>0</td>\n",
       "      <td>14102100</td>\n",
       "      <td>1005</td>\n",
       "      <td>0</td>\n",
       "      <td>1fbe01fe</td>\n",
       "      <td>f3845767</td>\n",
       "      <td>28905ebd</td>\n",
       "      <td>ecad2386</td>\n",
       "      <td>7801e8d9</td>\n",
       "      <td>...</td>\n",
       "      <td>1</td>\n",
       "      <td>0</td>\n",
       "      <td>15706</td>\n",
       "      <td>320</td>\n",
       "      <td>50</td>\n",
       "      <td>1722</td>\n",
       "      <td>0</td>\n",
       "      <td>35</td>\n",
       "      <td>100084</td>\n",
       "      <td>79</td>\n",
       "    </tr>\n",
       "    <tr>\n",
       "      <th>4</th>\n",
       "      <td>10000679056417042096</td>\n",
       "      <td>0</td>\n",
       "      <td>14102100</td>\n",
       "      <td>1005</td>\n",
       "      <td>1</td>\n",
       "      <td>fe8cc448</td>\n",
       "      <td>9166c161</td>\n",
       "      <td>0569f928</td>\n",
       "      <td>ecad2386</td>\n",
       "      <td>7801e8d9</td>\n",
       "      <td>...</td>\n",
       "      <td>1</td>\n",
       "      <td>0</td>\n",
       "      <td>18993</td>\n",
       "      <td>320</td>\n",
       "      <td>50</td>\n",
       "      <td>2161</td>\n",
       "      <td>0</td>\n",
       "      <td>35</td>\n",
       "      <td>-1</td>\n",
       "      <td>157</td>\n",
       "    </tr>\n",
       "    <tr>\n",
       "      <th>5</th>\n",
       "      <td>10000720757801103869</td>\n",
       "      <td>0</td>\n",
       "      <td>14102100</td>\n",
       "      <td>1005</td>\n",
       "      <td>0</td>\n",
       "      <td>d6137915</td>\n",
       "      <td>bb1ef334</td>\n",
       "      <td>f028772b</td>\n",
       "      <td>ecad2386</td>\n",
       "      <td>7801e8d9</td>\n",
       "      <td>...</td>\n",
       "      <td>1</td>\n",
       "      <td>0</td>\n",
       "      <td>16920</td>\n",
       "      <td>320</td>\n",
       "      <td>50</td>\n",
       "      <td>1899</td>\n",
       "      <td>0</td>\n",
       "      <td>431</td>\n",
       "      <td>100077</td>\n",
       "      <td>117</td>\n",
       "    </tr>\n",
       "    <tr>\n",
       "      <th>6</th>\n",
       "      <td>10000724729988544911</td>\n",
       "      <td>0</td>\n",
       "      <td>14102100</td>\n",
       "      <td>1005</td>\n",
       "      <td>0</td>\n",
       "      <td>8fda644b</td>\n",
       "      <td>25d4cfcd</td>\n",
       "      <td>f028772b</td>\n",
       "      <td>ecad2386</td>\n",
       "      <td>7801e8d9</td>\n",
       "      <td>...</td>\n",
       "      <td>1</td>\n",
       "      <td>0</td>\n",
       "      <td>20362</td>\n",
       "      <td>320</td>\n",
       "      <td>50</td>\n",
       "      <td>2333</td>\n",
       "      <td>0</td>\n",
       "      <td>39</td>\n",
       "      <td>-1</td>\n",
       "      <td>157</td>\n",
       "    </tr>\n",
       "    <tr>\n",
       "      <th>7</th>\n",
       "      <td>10000918755742328737</td>\n",
       "      <td>0</td>\n",
       "      <td>14102100</td>\n",
       "      <td>1005</td>\n",
       "      <td>1</td>\n",
       "      <td>e151e245</td>\n",
       "      <td>7e091613</td>\n",
       "      <td>f028772b</td>\n",
       "      <td>ecad2386</td>\n",
       "      <td>7801e8d9</td>\n",
       "      <td>...</td>\n",
       "      <td>1</td>\n",
       "      <td>0</td>\n",
       "      <td>20632</td>\n",
       "      <td>320</td>\n",
       "      <td>50</td>\n",
       "      <td>2374</td>\n",
       "      <td>3</td>\n",
       "      <td>39</td>\n",
       "      <td>-1</td>\n",
       "      <td>23</td>\n",
       "    </tr>\n",
       "    <tr>\n",
       "      <th>8</th>\n",
       "      <td>10000949271186029916</td>\n",
       "      <td>1</td>\n",
       "      <td>14102100</td>\n",
       "      <td>1005</td>\n",
       "      <td>0</td>\n",
       "      <td>1fbe01fe</td>\n",
       "      <td>f3845767</td>\n",
       "      <td>28905ebd</td>\n",
       "      <td>ecad2386</td>\n",
       "      <td>7801e8d9</td>\n",
       "      <td>...</td>\n",
       "      <td>1</td>\n",
       "      <td>2</td>\n",
       "      <td>15707</td>\n",
       "      <td>320</td>\n",
       "      <td>50</td>\n",
       "      <td>1722</td>\n",
       "      <td>0</td>\n",
       "      <td>35</td>\n",
       "      <td>-1</td>\n",
       "      <td>79</td>\n",
       "    </tr>\n",
       "    <tr>\n",
       "      <th>9</th>\n",
       "      <td>10001264480619467364</td>\n",
       "      <td>0</td>\n",
       "      <td>14102100</td>\n",
       "      <td>1002</td>\n",
       "      <td>0</td>\n",
       "      <td>84c7ba46</td>\n",
       "      <td>c4e18dd6</td>\n",
       "      <td>50e219e0</td>\n",
       "      <td>ecad2386</td>\n",
       "      <td>7801e8d9</td>\n",
       "      <td>...</td>\n",
       "      <td>0</td>\n",
       "      <td>0</td>\n",
       "      <td>21689</td>\n",
       "      <td>320</td>\n",
       "      <td>50</td>\n",
       "      <td>2496</td>\n",
       "      <td>3</td>\n",
       "      <td>167</td>\n",
       "      <td>100191</td>\n",
       "      <td>23</td>\n",
       "    </tr>\n",
       "  </tbody>\n",
       "</table>\n",
       "<p>10 rows × 24 columns</p>\n",
       "</div>"
      ],
      "text/plain": [
       "                     id  click      hour    C1  banner_pos   site_id  \\\n",
       "0   1000009418151094273      0  14102100  1005           0  1fbe01fe   \n",
       "1  10000169349117863715      0  14102100  1005           0  1fbe01fe   \n",
       "2  10000371904215119486      0  14102100  1005           0  1fbe01fe   \n",
       "3  10000640724480838376      0  14102100  1005           0  1fbe01fe   \n",
       "4  10000679056417042096      0  14102100  1005           1  fe8cc448   \n",
       "5  10000720757801103869      0  14102100  1005           0  d6137915   \n",
       "6  10000724729988544911      0  14102100  1005           0  8fda644b   \n",
       "7  10000918755742328737      0  14102100  1005           1  e151e245   \n",
       "8  10000949271186029916      1  14102100  1005           0  1fbe01fe   \n",
       "9  10001264480619467364      0  14102100  1002           0  84c7ba46   \n",
       "\n",
       "  site_domain site_category    app_id app_domain ...  device_type  \\\n",
       "0    f3845767      28905ebd  ecad2386   7801e8d9 ...            1   \n",
       "1    f3845767      28905ebd  ecad2386   7801e8d9 ...            1   \n",
       "2    f3845767      28905ebd  ecad2386   7801e8d9 ...            1   \n",
       "3    f3845767      28905ebd  ecad2386   7801e8d9 ...            1   \n",
       "4    9166c161      0569f928  ecad2386   7801e8d9 ...            1   \n",
       "5    bb1ef334      f028772b  ecad2386   7801e8d9 ...            1   \n",
       "6    25d4cfcd      f028772b  ecad2386   7801e8d9 ...            1   \n",
       "7    7e091613      f028772b  ecad2386   7801e8d9 ...            1   \n",
       "8    f3845767      28905ebd  ecad2386   7801e8d9 ...            1   \n",
       "9    c4e18dd6      50e219e0  ecad2386   7801e8d9 ...            0   \n",
       "\n",
       "  device_conn_type    C14  C15  C16   C17  C18  C19     C20  C21  \n",
       "0                2  15706  320   50  1722    0   35      -1   79  \n",
       "1                0  15704  320   50  1722    0   35  100084   79  \n",
       "2                0  15704  320   50  1722    0   35  100084   79  \n",
       "3                0  15706  320   50  1722    0   35  100084   79  \n",
       "4                0  18993  320   50  2161    0   35      -1  157  \n",
       "5                0  16920  320   50  1899    0  431  100077  117  \n",
       "6                0  20362  320   50  2333    0   39      -1  157  \n",
       "7                0  20632  320   50  2374    3   39      -1   23  \n",
       "8                2  15707  320   50  1722    0   35      -1   79  \n",
       "9                0  21689  320   50  2496    3  167  100191   23  \n",
       "\n",
       "[10 rows x 24 columns]"
      ]
     },
     "execution_count": 65,
     "metadata": {},
     "output_type": "execute_result"
    }
   ],
   "source": [
    "data.head(10)"
   ]
  },
  {
   "cell_type": "code",
   "execution_count": 66,
   "metadata": {
    "scrolled": true
   },
   "outputs": [
    {
     "name": "stdout",
     "output_type": "stream",
     "text": [
      "<class 'pandas.core.frame.DataFrame'>\n",
      "RangeIndex: 10000 entries, 0 to 9999\n",
      "Data columns (total 24 columns):\n",
      "id                  10000 non-null uint64\n",
      "click               10000 non-null int64\n",
      "hour                10000 non-null int64\n",
      "C1                  10000 non-null int64\n",
      "banner_pos          10000 non-null int64\n",
      "site_id             10000 non-null object\n",
      "site_domain         10000 non-null object\n",
      "site_category       10000 non-null object\n",
      "app_id              10000 non-null object\n",
      "app_domain          10000 non-null object\n",
      "app_category        10000 non-null object\n",
      "device_id           10000 non-null object\n",
      "device_ip           10000 non-null object\n",
      "device_model        10000 non-null object\n",
      "device_type         10000 non-null int64\n",
      "device_conn_type    10000 non-null int64\n",
      "C14                 10000 non-null int64\n",
      "C15                 10000 non-null int64\n",
      "C16                 10000 non-null int64\n",
      "C17                 10000 non-null int64\n",
      "C18                 10000 non-null int64\n",
      "C19                 10000 non-null int64\n",
      "C20                 10000 non-null int64\n",
      "C21                 10000 non-null int64\n",
      "dtypes: int64(14), object(9), uint64(1)\n",
      "memory usage: 1.8+ MB\n"
     ]
    }
   ],
   "source": [
    "data.info()"
   ]
  },
  {
   "cell_type": "markdown",
   "metadata": {
    "collapsed": true
   },
   "source": [
    "# Part 1: Training and testing split\n",
    "\n",
    "Let's start with defining the training data matrix X and response y. \n",
    "You need to use get_dummies to create the dummy variable with these only selected columns. Please select the response y as the click rate.\n"
   ]
  },
  {
   "cell_type": "code",
   "execution_count": 67,
   "metadata": {
    "collapsed": true
   },
   "outputs": [],
   "source": [
    "selected_columns =['C1','site_domain','app_id','app_domain','site_category','banner_pos','device_type','device_conn_type','C14','C15','C16','C17','C18','C19']\n",
    "# Please put your code here to define the data matrix X and y\n",
    "X = data.loc[:,selected_columns]\n",
    "y = data.click"
   ]
  },
  {
   "cell_type": "code",
   "execution_count": 68,
   "metadata": {},
   "outputs": [
    {
     "data": {
      "text/plain": [
       "array([[1005,    0,    1, ...,    0,    0,    0],\n",
       "       [1005,    0,    1, ...,    0,    0,    0],\n",
       "       [1005,    0,    1, ...,    0,    0,    0],\n",
       "       ..., \n",
       "       [1005,    1,    1, ...,    0,    1,    0],\n",
       "       [1005,    0,    1, ...,    0,    0,    0],\n",
       "       [1005,    0,    1, ...,    0,    1,    0]], dtype=int64)"
      ]
     },
     "execution_count": 68,
     "metadata": {},
     "output_type": "execute_result"
    }
   ],
   "source": [
    "Xnew= pd.get_dummies(X)\n",
    "Xnew.as_matrix()"
   ]
  },
  {
   "cell_type": "code",
   "execution_count": 69,
   "metadata": {
    "scrolled": false
   },
   "outputs": [
    {
     "data": {
      "text/html": [
       "<div>\n",
       "<style>\n",
       "    .dataframe thead tr:only-child th {\n",
       "        text-align: right;\n",
       "    }\n",
       "\n",
       "    .dataframe thead th {\n",
       "        text-align: left;\n",
       "    }\n",
       "\n",
       "    .dataframe tbody tr th {\n",
       "        vertical-align: top;\n",
       "    }\n",
       "</style>\n",
       "<table border=\"1\" class=\"dataframe\">\n",
       "  <thead>\n",
       "    <tr style=\"text-align: right;\">\n",
       "      <th></th>\n",
       "      <th>C1</th>\n",
       "      <th>banner_pos</th>\n",
       "      <th>device_type</th>\n",
       "      <th>device_conn_type</th>\n",
       "      <th>C14</th>\n",
       "      <th>C15</th>\n",
       "      <th>C16</th>\n",
       "      <th>C17</th>\n",
       "      <th>C18</th>\n",
       "      <th>C19</th>\n",
       "      <th>...</th>\n",
       "      <th>site_category_3e814130</th>\n",
       "      <th>site_category_50e219e0</th>\n",
       "      <th>site_category_72722551</th>\n",
       "      <th>site_category_75fa27f6</th>\n",
       "      <th>site_category_76b2941d</th>\n",
       "      <th>site_category_a818d37a</th>\n",
       "      <th>site_category_bcf865d9</th>\n",
       "      <th>site_category_c0dd3be3</th>\n",
       "      <th>site_category_f028772b</th>\n",
       "      <th>site_category_f66779e6</th>\n",
       "    </tr>\n",
       "  </thead>\n",
       "  <tbody>\n",
       "    <tr>\n",
       "      <th>0</th>\n",
       "      <td>1005</td>\n",
       "      <td>0</td>\n",
       "      <td>1</td>\n",
       "      <td>2</td>\n",
       "      <td>15706</td>\n",
       "      <td>320</td>\n",
       "      <td>50</td>\n",
       "      <td>1722</td>\n",
       "      <td>0</td>\n",
       "      <td>35</td>\n",
       "      <td>...</td>\n",
       "      <td>0</td>\n",
       "      <td>0</td>\n",
       "      <td>0</td>\n",
       "      <td>0</td>\n",
       "      <td>0</td>\n",
       "      <td>0</td>\n",
       "      <td>0</td>\n",
       "      <td>0</td>\n",
       "      <td>0</td>\n",
       "      <td>0</td>\n",
       "    </tr>\n",
       "    <tr>\n",
       "      <th>1</th>\n",
       "      <td>1005</td>\n",
       "      <td>0</td>\n",
       "      <td>1</td>\n",
       "      <td>0</td>\n",
       "      <td>15704</td>\n",
       "      <td>320</td>\n",
       "      <td>50</td>\n",
       "      <td>1722</td>\n",
       "      <td>0</td>\n",
       "      <td>35</td>\n",
       "      <td>...</td>\n",
       "      <td>0</td>\n",
       "      <td>0</td>\n",
       "      <td>0</td>\n",
       "      <td>0</td>\n",
       "      <td>0</td>\n",
       "      <td>0</td>\n",
       "      <td>0</td>\n",
       "      <td>0</td>\n",
       "      <td>0</td>\n",
       "      <td>0</td>\n",
       "    </tr>\n",
       "    <tr>\n",
       "      <th>2</th>\n",
       "      <td>1005</td>\n",
       "      <td>0</td>\n",
       "      <td>1</td>\n",
       "      <td>0</td>\n",
       "      <td>15704</td>\n",
       "      <td>320</td>\n",
       "      <td>50</td>\n",
       "      <td>1722</td>\n",
       "      <td>0</td>\n",
       "      <td>35</td>\n",
       "      <td>...</td>\n",
       "      <td>0</td>\n",
       "      <td>0</td>\n",
       "      <td>0</td>\n",
       "      <td>0</td>\n",
       "      <td>0</td>\n",
       "      <td>0</td>\n",
       "      <td>0</td>\n",
       "      <td>0</td>\n",
       "      <td>0</td>\n",
       "      <td>0</td>\n",
       "    </tr>\n",
       "    <tr>\n",
       "      <th>3</th>\n",
       "      <td>1005</td>\n",
       "      <td>0</td>\n",
       "      <td>1</td>\n",
       "      <td>0</td>\n",
       "      <td>15706</td>\n",
       "      <td>320</td>\n",
       "      <td>50</td>\n",
       "      <td>1722</td>\n",
       "      <td>0</td>\n",
       "      <td>35</td>\n",
       "      <td>...</td>\n",
       "      <td>0</td>\n",
       "      <td>0</td>\n",
       "      <td>0</td>\n",
       "      <td>0</td>\n",
       "      <td>0</td>\n",
       "      <td>0</td>\n",
       "      <td>0</td>\n",
       "      <td>0</td>\n",
       "      <td>0</td>\n",
       "      <td>0</td>\n",
       "    </tr>\n",
       "    <tr>\n",
       "      <th>4</th>\n",
       "      <td>1005</td>\n",
       "      <td>1</td>\n",
       "      <td>1</td>\n",
       "      <td>0</td>\n",
       "      <td>18993</td>\n",
       "      <td>320</td>\n",
       "      <td>50</td>\n",
       "      <td>2161</td>\n",
       "      <td>0</td>\n",
       "      <td>35</td>\n",
       "      <td>...</td>\n",
       "      <td>0</td>\n",
       "      <td>0</td>\n",
       "      <td>0</td>\n",
       "      <td>0</td>\n",
       "      <td>0</td>\n",
       "      <td>0</td>\n",
       "      <td>0</td>\n",
       "      <td>0</td>\n",
       "      <td>0</td>\n",
       "      <td>0</td>\n",
       "    </tr>\n",
       "  </tbody>\n",
       "</table>\n",
       "<p>5 rows × 685 columns</p>\n",
       "</div>"
      ],
      "text/plain": [
       "     C1  banner_pos  device_type  device_conn_type    C14  C15  C16   C17  \\\n",
       "0  1005           0            1                 2  15706  320   50  1722   \n",
       "1  1005           0            1                 0  15704  320   50  1722   \n",
       "2  1005           0            1                 0  15704  320   50  1722   \n",
       "3  1005           0            1                 0  15706  320   50  1722   \n",
       "4  1005           1            1                 0  18993  320   50  2161   \n",
       "\n",
       "   C18  C19           ...            site_category_3e814130  \\\n",
       "0    0   35           ...                                 0   \n",
       "1    0   35           ...                                 0   \n",
       "2    0   35           ...                                 0   \n",
       "3    0   35           ...                                 0   \n",
       "4    0   35           ...                                 0   \n",
       "\n",
       "   site_category_50e219e0  site_category_72722551  site_category_75fa27f6  \\\n",
       "0                       0                       0                       0   \n",
       "1                       0                       0                       0   \n",
       "2                       0                       0                       0   \n",
       "3                       0                       0                       0   \n",
       "4                       0                       0                       0   \n",
       "\n",
       "   site_category_76b2941d  site_category_a818d37a  site_category_bcf865d9  \\\n",
       "0                       0                       0                       0   \n",
       "1                       0                       0                       0   \n",
       "2                       0                       0                       0   \n",
       "3                       0                       0                       0   \n",
       "4                       0                       0                       0   \n",
       "\n",
       "   site_category_c0dd3be3  site_category_f028772b  site_category_f66779e6  \n",
       "0                       0                       0                       0  \n",
       "1                       0                       0                       0  \n",
       "2                       0                       0                       0  \n",
       "3                       0                       0                       0  \n",
       "4                       0                       0                       0  \n",
       "\n",
       "[5 rows x 685 columns]"
      ]
     },
     "execution_count": 69,
     "metadata": {},
     "output_type": "execute_result"
    }
   ],
   "source": [
    "Xnew.head()"
   ]
  },
  {
   "cell_type": "code",
   "execution_count": 70,
   "metadata": {
    "collapsed": true
   },
   "outputs": [],
   "source": [
    "from sklearn.model_selection import train_test_split\n",
    "\n",
    "X_train, X_test, y_train, y_test = train_test_split(Xnew, y, test_size=0.30, random_state=50)"
   ]
  },
  {
   "cell_type": "markdown",
   "metadata": {},
   "source": [
    "# Part 2.1: SVM\n",
    "\n",
    "Let's Start with SVM. Please use svm.LinearSVC, Let's try to add balanced weight to handle the class-imbalance issue. \n",
    " 1. please compute the precision/recall, f1-score, and confusion matrix. \n",
    " 2. Please run the algorithm for multiple times and observe the result. "
   ]
  },
  {
   "cell_type": "code",
   "execution_count": 72,
   "metadata": {},
   "outputs": [
    {
     "name": "stdout",
     "output_type": "stream",
     "text": [
      "             precision    recall  f1-score   support\n",
      "\n",
      "          0       0.91      0.53      0.67      2500\n",
      "          1       0.24      0.73      0.36       500\n",
      "\n",
      "avg / total       0.80      0.56      0.62      3000\n",
      "\n",
      "0.194496926724\n",
      "[[1317 1183]\n",
      " [ 133  367]]\n",
      "Normalized confusion matrix\n",
      "[[ 0.5268  0.4732]\n",
      " [ 0.266   0.734 ]]\n"
     ]
    },
    {
     "data": {
      "image/png": "[encoded data removed]",
      "text/plain": [
       "<matplotlib.figure.Figure at 0x14e2a069710>"
      ]
     },
     "metadata": {},
     "output_type": "display_data"
    }
   ],
   "source": [
    "from sklearn import svm\n",
    "from sklearn.metrics import classification_report\n",
    "from sklearn.metrics import matthews_corrcoef\n",
    "from sklearn.metrics import confusion_matrix\n",
    "import itertools\n",
    "import matplotlib.pyplot as plt\n",
    "import seaborn as sns\n",
    "import numpy as np\n",
    "\n",
    "from sklearn import svm\n",
    "from sklearn import preprocessing\n",
    "\n",
    "%matplotlib inline\n",
    "plt.style.use('seaborn-white')\n",
    "\n",
    "clf = svm.LinearSVC(class_weight='balanced')\n",
    "X_train = preprocessing.scale(X_train)\n",
    "X_test = preprocessing.scale(X_test)\n",
    "\n",
    "\n",
    "clf.fit(X_train,y_train)\n",
    "y_pred = clf.predict(X_test)\n",
    "\n",
    "from sklearn.metrics import classification_report\n",
    "from sklearn.metrics import matthews_corrcoef\n",
    "print(classification_report(y_test,y_pred))\n",
    "print(matthews_corrcoef(y_test,y_pred))\n",
    "\n",
    "cm = confusion_matrix(y_test, y_pred)\n",
    "cm_normalized = cm.astype('float') / cm.sum(axis=1)[:, np.newaxis]\n",
    "print(cm)\n",
    "\n",
    "\n",
    "def plot_confusion_matrix(cm, classes,\n",
    "                          normalize=False,\n",
    "                          title='Confusion matrix',\n",
    "                          cmap=plt.cm.Blues):\n",
    "    \"\"\"\n",
    "    This function prints and plots the confusion matrix.\n",
    "    Normalization can be applied by setting `normalize=True`.\n",
    "    \"\"\"\n",
    "    if normalize:\n",
    "        cm = cm.astype('float') / cm.sum(axis=1)[:, np.newaxis]\n",
    "        print(\"Normalized confusion matrix\")\n",
    "    else:\n",
    "        print('Confusion matrix, without normalization')\n",
    "\n",
    "    print(cm)\n",
    "\n",
    "    plt.imshow(cm, interpolation='nearest', cmap=cmap)\n",
    "    plt.title(title)\n",
    "    plt.colorbar()\n",
    "    tick_marks = np.arange(len(classes))\n",
    "    plt.xticks(tick_marks, classes, rotation=45)\n",
    "    plt.yticks(tick_marks, classes)\n",
    "\n",
    "    fmt = '.2f' if normalize else 'd'\n",
    "    thresh = cm.max() / 2.\n",
    "    for i, j in itertools.product(range(cm.shape[0]), range(cm.shape[1])):\n",
    "        plt.text(j, i, format(cm[i, j], fmt),\n",
    "                 horizontalalignment=\"center\",\n",
    "                 color=\"white\" if cm[i, j] > thresh else \"black\")\n",
    "\n",
    "    plt.tight_layout()\n",
    "    plt.ylabel('True label')\n",
    "    plt.xlabel('Predicted label')\n",
    "\n",
    "plot_confusion_matrix(cm,[0,1],normalize=True)\n",
    "\n",
    "\n"
   ]
  },
  {
   "cell_type": "markdown",
   "metadata": {},
   "source": [
    "#### Iteration-1 Confusion Matrix\n",
    "\n",
    "    precision    recall  f1-score   support\n",
    "\n",
    "          0       0.92      0.52      0.66      2500\n",
    "          1       0.24      0.76      0.37       500\n",
    "\n",
    "avg / total       0.80      0.56      0.61      3000\n",
    "\n",
    "0.208997129935\n",
    "\n",
    "[[1300 1200]\n",
    "\n",
    "[ 120  380]]\n",
    "\n",
    "Normalized confusion matrix\n",
    "\n",
    "[[ 0.52  0.48]\n",
    "\n",
    "[ 0.24  0.76]]\n",
    " \n",
    "#### Iteration-2 Confusion Matrix\n",
    "\n",
    "    precision    recall  f1-score   support\n",
    "\n",
    "          0       0.91      0.52      0.66      2500\n",
    "          1       0.24      0.74      0.36       500\n",
    "\n",
    "avg / total       0.80      0.56      0.61      3000\n",
    "\n",
    "0.192798201214\n",
    "\n",
    "[[1301 1199]\n",
    "\n",
    "[ 131  369]]\n",
    " \n",
    "Normalized confusion matrix\n",
    "\n",
    "[[ 0.5204  0.4796]\n",
    "\n",
    "[ 0.262   0.738 ]]\n",
    " \n",
    "#### Iteration-3 Confusion Matrix \n",
    "\n",
    "         precision    recall  f1-score   support\n",
    "\n",
    "          0       0.91      0.53      0.67      2500\n",
    "          1       0.24      0.73      0.36       500\n",
    "\n",
    "avg / total       0.80      0.56      0.62      3000\n",
    "\n",
    "0.194496926724\n",
    "\n",
    "[[1317 1183]\n",
    "\n",
    "[ 133  367]]\n",
    "\n",
    "Normalized confusion matrix\n",
    "\n",
    "[[ 0.5268  0.4732]\n",
    "\n",
    "[ 0.266   0.734 ]]"
   ]
  },
  {
   "cell_type": "markdown",
   "metadata": {},
   "source": [
    "# Part 2.2 Regularized SVM\n",
    "\n",
    "1. Let's try to add penalty, please exlpore the use of the 'l1' and'l2' penalty in Scikit-learn, Please also use cross validation to select the best tuning parameters C.\n",
    "2. please compute the precision/recall, f1-score, and confusion matrix for 'l1' and 'l2' model with the best tuning paramter C.\n",
    "\n"
   ]
  },
  {
   "cell_type": "markdown",
   "metadata": {},
   "source": [
    "### L1 Regularization"
   ]
  },
  {
   "cell_type": "code",
   "execution_count": 73,
   "metadata": {},
   "outputs": [
    {
     "name": "stdout",
     "output_type": "stream",
     "text": [
      "best parameters: {'C': 0.01} ,testing accuracy: 0.827666666667\n"
     ]
    }
   ],
   "source": [
    "from sklearn.model_selection import GridSearchCV\n",
    "from sklearn.svm import LinearSVC\n",
    "from sklearn.svm import SVC\n",
    "\n",
    "Cs = [0.01,0.1,1,10,100,1000]\n",
    "parameters = {'C':Cs}\n",
    "\n",
    "svc = LinearSVC(penalty='l1', dual = False)\n",
    "clf_regsvm = GridSearchCV(svc, parameters,return_train_score=True)\n",
    "clf_regsvm.fit(X_train, y_train)\n",
    "print('best parameters:',clf_regsvm.best_params_,',testing accuracy:',clf_regsvm.best_estimator_.score(X_test,y_test))\n",
    "    \n",
    "    \n",
    "\n",
    "    \n"
   ]
  },
  {
   "cell_type": "code",
   "execution_count": 80,
   "metadata": {},
   "outputs": [
    {
     "name": "stdout",
     "output_type": "stream",
     "text": [
      "             precision    recall  f1-score   support\n",
      "\n",
      "          0       0.92      0.52      0.66      2500\n",
      "          1       0.24      0.77      0.37       500\n",
      "\n",
      "avg / total       0.81      0.56      0.61      3000\n",
      "\n",
      "0.216210742298\n"
     ]
    }
   ],
   "source": [
    "clf_l1= svm.LinearSVC(penalty= 'l1', dual = False, class_weight = 'balanced' , C=0.01)\n",
    "clf_l1.fit(X_train, y_train)\n",
    "y_predl1 = clf_l1.predict(X_test)\n",
    "print(classification_report(y_test,y_predl1))\n",
    "print(matthews_corrcoef(y_test,y_predl1))"
   ]
  },
  {
   "cell_type": "code",
   "execution_count": 82,
   "metadata": {},
   "outputs": [
    {
     "name": "stdout",
     "output_type": "stream",
     "text": [
      "[[1299 1201]\n",
      " [ 115  385]]\n",
      "Normalized confusion matrix\n",
      "[[ 0.5196  0.4804]\n",
      " [ 0.23    0.77  ]]\n"
     ]
    },
    {
     "data": {
      "image/png": "[encoded data removed]",
      "text/plain": [
       "<matplotlib.figure.Figure at 0x14e2a042550>"
      ]
     },
     "metadata": {},
     "output_type": "display_data"
    }
   ],
   "source": [
    "cm = confusion_matrix(y_test, y_predl1)\n",
    "cm_normalized = cm.astype('float') / cm.sum(axis=1)[:, np.newaxis]\n",
    "print(cm)\n",
    "\n",
    "def plot_confusion_matrix(cm, classes,\n",
    "                          normalize=False,\n",
    "                          title='Confusion matrix',\n",
    "                          cmap=plt.cm.Blues):\n",
    "    \"\"\"\n",
    "    This function prints and plots the confusion matrix.\n",
    "    Normalization can be applied by setting `normalize=True`.\n",
    "    \"\"\"\n",
    "    if normalize:\n",
    "        cm = cm.astype('float') / cm.sum(axis=1)[:, np.newaxis]\n",
    "        print(\"Normalized confusion matrix\")\n",
    "    else:\n",
    "        print('Confusion matrix, without normalization')\n",
    "\n",
    "    print(cm)\n",
    "\n",
    "    plt.imshow(cm, interpolation='nearest', cmap=cmap)\n",
    "    plt.title(title)\n",
    "    plt.colorbar()\n",
    "    tick_marks = np.arange(len(classes))\n",
    "    plt.xticks(tick_marks, classes, rotation=45)\n",
    "    plt.yticks(tick_marks, classes)\n",
    "\n",
    "    fmt = '.2f' if normalize else 'd'\n",
    "    thresh = cm.max() / 2.\n",
    "    for i, j in itertools.product(range(cm.shape[0]), range(cm.shape[1])):\n",
    "        plt.text(j, i, format(cm[i, j], fmt),\n",
    "                 horizontalalignment=\"center\",\n",
    "                 color=\"white\" if cm[i, j] > thresh else \"black\")\n",
    "\n",
    "    plt.tight_layout()\n",
    "    plt.ylabel('True label')\n",
    "    plt.xlabel('Predicted label')\n",
    "\n",
    "plot_confusion_matrix(cm,[0,1],normalize=True)\n"
   ]
  },
  {
   "cell_type": "markdown",
   "metadata": {},
   "source": [
    "### L2 Regularization"
   ]
  },
  {
   "cell_type": "code",
   "execution_count": 79,
   "metadata": {},
   "outputs": [
    {
     "name": "stdout",
     "output_type": "stream",
     "text": [
      "best parameters: {'C': 0.01} ,testing accuracy: 0.827\n"
     ]
    }
   ],
   "source": [
    "svc2 = svm.LinearSVC(penalty='l2')\n",
    "clf_l2 = GridSearchCV(svc2, parameters,return_train_score=True)\n",
    "clf_l2.fit(X_train, y_train)\n",
    "print('best parameters:',clf_l2.best_params_,',testing accuracy:',clf_l2.best_estimator_.score(X_test,y_test))"
   ]
  },
  {
   "cell_type": "code",
   "execution_count": 17,
   "metadata": {},
   "outputs": [
    {
     "name": "stdout",
     "output_type": "stream",
     "text": [
      "             precision    recall  f1-score   support\n",
      "\n",
      "          0       0.84      0.98      0.90      2500\n",
      "          1       0.40      0.07      0.12       500\n",
      "\n",
      "avg / total       0.77      0.83      0.77      3000\n",
      "\n",
      "0.106913664854\n"
     ]
    }
   ],
   "source": [
    "clf_l2= svm.LinearSVC(penalty= 'l2', class_weight = 'balanced' , C=0.01)\n",
    "clf_l2.fit(X_train, y_train)\n",
    "y_predl2 = clf_l2.predict(X_test)\n",
    "print(classification_report(y_test,y_predl2))\n",
    "print(matthews_corrcoef(y_test,y_predl2))"
   ]
  },
  {
   "cell_type": "code",
   "execution_count": 85,
   "metadata": {},
   "outputs": [
    {
     "name": "stdout",
     "output_type": "stream",
     "text": [
      "[[2435   65]\n",
      " [ 454   46]]\n",
      "Normalized confusion matrix\n",
      "[[ 0.974  0.026]\n",
      " [ 0.908  0.092]]\n"
     ]
    },
    {
     "data": {
      "image/png": "[encoded data removed]",
      "text/plain": [
       "<matplotlib.figure.Figure at 0x14e2ac749b0>"
      ]
     },
     "metadata": {},
     "output_type": "display_data"
    }
   ],
   "source": [
    "cm = confusion_matrix(y_test, y_predl2)\n",
    "cm_normalized = cm.astype('float') / cm.sum(axis=1)[:, np.newaxis]\n",
    "print(cm)\n",
    "\n",
    "def plot_confusion_matrix(cm, classes,\n",
    "                          normalize=False,\n",
    "                          title='Confusion matrix',\n",
    "                          cmap=plt.cm.Blues):\n",
    "    \"\"\"\n",
    "    This function prints and plots the confusion matrix.\n",
    "    Normalization can be applied by setting `normalize=True`.\n",
    "    \"\"\"\n",
    "    if normalize:\n",
    "        cm = cm.astype('float') / cm.sum(axis=1)[:, np.newaxis]\n",
    "        print(\"Normalized confusion matrix\")\n",
    "    else:\n",
    "        print('Confusion matrix, without normalization')\n",
    "\n",
    "    print(cm)\n",
    "\n",
    "    plt.imshow(cm, interpolation='nearest', cmap=cmap)\n",
    "    plt.title(title)\n",
    "    plt.colorbar()\n",
    "    tick_marks = np.arange(len(classes))\n",
    "    plt.xticks(tick_marks, classes, rotation=45)\n",
    "    plt.yticks(tick_marks, classes)\n",
    "\n",
    "    fmt = '.2f' if normalize else 'd'\n",
    "    thresh = cm.max() / 2.\n",
    "    for i, j in itertools.product(range(cm.shape[0]), range(cm.shape[1])):\n",
    "        plt.text(j, i, format(cm[i, j], fmt),\n",
    "                 horizontalalignment=\"center\",\n",
    "                 color=\"white\" if cm[i, j] > thresh else \"black\")\n",
    "\n",
    "    plt.tight_layout()\n",
    "    plt.ylabel('True label')\n",
    "    plt.xlabel('Predicted label')\n",
    "\n",
    "plot_confusion_matrix(cm,[0,1],normalize=True)\n"
   ]
  },
  {
   "cell_type": "markdown",
   "metadata": {},
   "source": [
    "# Part 3: Logistic Regression"
   ]
  },
  {
   "cell_type": "markdown",
   "metadata": {},
   "source": [
    "Please also explore using Logistic Regression on this problem and report the result. \n",
    "1. Please plot the ROC curve and compute the area under the ROC curve. (You don't need to explore the use of penalty since the cross validation can be very slow)\n",
    "2. Please plot the precision recall curve and compute the average precision\n",
    "3. Please compute the F1-score and confusion matrix."
   ]
  },
  {
   "cell_type": "code",
   "execution_count": 86,
   "metadata": {
    "collapsed": true
   },
   "outputs": [],
   "source": [
    "from sklearn.model_selection import train_test_split\n",
    "\n",
    "X_train, X_test, y_train, y_test = train_test_split(Xnew, y, test_size=0.30, random_state=50)"
   ]
  },
  {
   "cell_type": "code",
   "execution_count": 93,
   "metadata": {},
   "outputs": [
    {
     "name": "stdout",
     "output_type": "stream",
     "text": [
      "[[2434   66]\n",
      " [ 454   46]]\n",
      "Normalized confusion matrix\n",
      "[[ 0.9736  0.0264]\n",
      " [ 0.908   0.092 ]]\n"
     ]
    },
    {
     "data": {
      "image/png": "[encoded data removed]",
      "text/plain": [
       "<matplotlib.figure.Figure at 0x14e2ecdc240>"
      ]
     },
     "metadata": {},
     "output_type": "display_data"
    }
   ],
   "source": [
    "import sklearn.linear_model as skl_lm\n",
    "\n",
    "clf = skl_lm.LogisticRegression(C=1e10,tol=1e-9)\n",
    "# C is the inverse of regularization strength, here we don't need regularization since we have so many data\n",
    "# Set it to very big \n",
    "clf.fit(X_train,y_train)\n",
    "clf.coef_\n",
    "\n",
    "\n",
    "from sklearn.metrics import confusion_matrix\n",
    "import itertools\n",
    "\n",
    "y_pred = clf.predict(X_test)\n",
    "y_score = clf.predict_proba(X_test)[:,1]\n",
    "cm = confusion_matrix(y_test, y_pred)\n",
    "cm_normalized = cm.astype('float') / cm.sum(axis=1)[:, np.newaxis]\n",
    "print(cm)\n",
    "\n",
    "\n",
    "def plot_confusion_matrix(cm, classes,\n",
    "                          normalize=False,\n",
    "                          title='Confusion matrix',\n",
    "                          cmap=plt.cm.Blues):\n",
    "    \"\"\"\n",
    "    This function prints and plots the confusion matrix.\n",
    "    Normalization can be applied by setting `normalize=True`.\n",
    "    \"\"\"\n",
    "    if normalize:\n",
    "        cm = cm.astype('float') / cm.sum(axis=1)[:, np.newaxis]\n",
    "        print(\"Normalized confusion matrix\")\n",
    "    else:\n",
    "        print('Confusion matrix, without normalization')\n",
    "\n",
    "    print(cm)\n",
    "\n",
    "    plt.imshow(cm, interpolation='nearest', cmap=cmap)\n",
    "    plt.title(title)\n",
    "    plt.colorbar()\n",
    "    tick_marks = np.arange(len(classes))\n",
    "    plt.xticks(tick_marks, classes, rotation=45)\n",
    "    plt.yticks(tick_marks, classes)\n",
    "\n",
    "    fmt = '.2f' if normalize else 'd'\n",
    "    thresh = cm.max() / 2.\n",
    "    for i, j in itertools.product(range(cm.shape[0]), range(cm.shape[1])):\n",
    "        plt.text(j, i, format(cm[i, j], fmt),\n",
    "                 horizontalalignment=\"center\",\n",
    "                 color=\"white\" if cm[i, j] > thresh else \"black\")\n",
    "\n",
    "    plt.tight_layout()\n",
    "    plt.ylabel('True label')\n",
    "    plt.xlabel('Predicted label')\n",
    "\n",
    "plot_confusion_matrix(cm,[0,1],normalize=True)\n",
    "\n",
    "\n",
    "from sklearn.utils import shuffle\n",
    "from sklearn.metrics import roc_curve, auc\n",
    "\n",
    "def ROC(label,result):\n",
    "    # Compute ROC curve and area the curve\n",
    "    Y = np.array(label)\n",
    "    fpr, tpr, thresholds = roc_curve(Y, result)\n",
    "    roc_auc = auc(fpr, tpr)\n",
    "    print(\"Area under the ROC curve : %f\" % roc_auc)\n",
    "\n",
    "    # Plot ROC curve\n",
    "    #pl.clf()\n",
    "    plt.plot(fpr, tpr, label='ROC curve (area = %0.2f)' % roc_auc)\n",
    "    plt.plot([0, 1], [0, 1], 'k--')\n",
    "    plt.xlim([0.0, 1.0])\n",
    "    plt.ylim([0.0, 1.0])\n",
    "    plt.xlabel('False Positive Rate')\n",
    "    plt.ylabel('True Positive Rate')\n",
    "    plt.title('Receiver operating characteristic')\n",
    "    plt.legend(loc=\"lower right\")\n",
    "    plt.show()"
   ]
  },
  {
   "cell_type": "code",
   "execution_count": 94,
   "metadata": {
    "scrolled": true
   },
   "outputs": [
    {
     "name": "stdout",
     "output_type": "stream",
     "text": [
      "Area under the ROC curve : 0.699238\n"
     ]
    },
    {
     "data": {
      "image/png": "[encoded data removed]",
      "text/plain": [
       "<matplotlib.figure.Figure at 0x14e29f12ba8>"
      ]
     },
     "metadata": {},
     "output_type": "display_data"
    }
   ],
   "source": [
    "ROC(y_test,y_score)"
   ]
  },
  {
   "cell_type": "code",
   "execution_count": 95,
   "metadata": {},
   "outputs": [
    {
     "name": "stdout",
     "output_type": "stream",
     "text": [
      "             precision    recall  f1-score   support\n",
      "\n",
      "          0       0.84      0.97      0.90      2500\n",
      "          1       0.41      0.09      0.15       500\n",
      "\n",
      "avg / total       0.77      0.83      0.78      3000\n",
      "\n",
      "0.12895887627\n"
     ]
    }
   ],
   "source": [
    "from sklearn.metrics import classification_report\n",
    "from sklearn.metrics import matthews_corrcoef\n",
    "print(classification_report(y_test,y_pred))\n",
    "\n",
    "print(matthews_corrcoef(y_test,y_pred))"
   ]
  },
  {
   "cell_type": "code",
   "execution_count": 96,
   "metadata": {},
   "outputs": [
    {
     "name": "stdout",
     "output_type": "stream",
     "text": [
      "Average precision-recall score: 0.31\n"
     ]
    }
   ],
   "source": [
    "from sklearn.metrics import average_precision_score\n",
    "\n",
    "average_precision = average_precision_score(y_test, y_score)\n",
    "\n",
    "print('Average precision-recall score: {0:0.2f}'.format(\n",
    "      average_precision))"
   ]
  },
  {
   "cell_type": "code",
   "execution_count": 97,
   "metadata": {},
   "outputs": [
    {
     "data": {
      "text/plain": [
       "Text(0.5,1,'2-class Precision-Recall curve: AP=0.31')"
      ]
     },
     "execution_count": 97,
     "metadata": {},
     "output_type": "execute_result"
    },
    {
     "data": {
      "image/png": "[encoded data removed]",
      "text/plain": [
       "<matplotlib.figure.Figure at 0x14e2ed97390>"
      ]
     },
     "metadata": {},
     "output_type": "display_data"
    }
   ],
   "source": [
    "from sklearn.metrics import precision_recall_curve\n",
    "import matplotlib.pyplot as plt\n",
    "\n",
    "precision, recall, _ = precision_recall_curve(y_test, y_score)\n",
    "\n",
    "plt.step(recall, precision, color='b', alpha=0.2,\n",
    "         where='post')\n",
    "plt.fill_between(recall, precision, step='post', alpha=0.2,\n",
    "                 color='b')\n",
    "\n",
    "plt.xlabel('Recall')\n",
    "plt.ylabel('Precision')\n",
    "plt.ylim([0.0, 1.05])\n",
    "plt.xlim([0.0, 1.0])\n",
    "plt.title('2-class Precision-Recall curve: AP={0:0.2f}'.format(\n",
    "          average_precision))"
   ]
  },
  {
   "cell_type": "markdown",
   "metadata": {},
   "source": [
    "# Part 4: Random Forest\n",
    "\n",
    "Please also explore using Random Forest on this problem and report the result. \n",
    "1. Please use cross-validation to select the best tuning parameters\n",
    "2. Please plot the ROC curve and compute the area under the ROC curve. \n",
    "3. Please plot the precision recall curve and compute the average precision\n",
    "4. Please compute the F1-score and confusion matrix"
   ]
  },
  {
   "cell_type": "code",
   "execution_count": 100,
   "metadata": {
    "collapsed": true,
    "scrolled": true
   },
   "outputs": [],
   "source": [
    "from sklearn.preprocessing import StandardScaler\n",
    "\n",
    "# preprocess dataset, split into training and test part\n",
    "XRF = StandardScaler().fit_transform(Xnew)\n",
    "X_train, X_test, y_train, y_test = train_test_split(XRF, y, test_size=.4)"
   ]
  },
  {
   "cell_type": "code",
   "execution_count": 42,
   "metadata": {},
   "outputs": [
    {
     "data": {
      "text/plain": [
       "array([[-0.05429968, -0.48385389, -0.11329767, ..., -0.020004  ,\n",
       "        -0.49280178, -0.04695584],\n",
       "       [-0.05429968, -0.48385389, -0.11329767, ..., -0.020004  ,\n",
       "        -0.49280178, -0.04695584],\n",
       "       [-0.05429968, -0.48385389, -0.11329767, ..., -0.020004  ,\n",
       "        -0.49280178, -0.04695584],\n",
       "       ..., \n",
       "       [-0.05429968,  1.98604856, -0.11329767, ..., -0.020004  ,\n",
       "         2.02921346, -0.04695584],\n",
       "       [-0.05429968, -0.48385389, -0.11329767, ..., -0.020004  ,\n",
       "        -0.49280178, -0.04695584],\n",
       "       [-0.05429968, -0.48385389, -0.11329767, ..., -0.020004  ,\n",
       "         2.02921346, -0.04695584]])"
      ]
     },
     "execution_count": 42,
     "metadata": {},
     "output_type": "execute_result"
    }
   ],
   "source": [
    "XRF"
   ]
  },
  {
   "cell_type": "code",
   "execution_count": 44,
   "metadata": {},
   "outputs": [
    {
     "name": "stdout",
     "output_type": "stream",
     "text": [
      "Accuracy:0.8195,Best parameters:{'max_depth': 16, 'max_features': 0.3, 'n_estimators': 32}, feature importance:[  2.75308421e-03   1.35566533e-02   4.11374385e-03   2.14956986e-02\n",
      "   2.00693822e-01   2.46392121e-02   7.27890107e-02   9.22118194e-02\n",
      "   2.79246050e-02   6.34709576e-02   0.00000000e+00   0.00000000e+00\n",
      "   1.56926574e-03   0.00000000e+00   0.00000000e+00   1.89563641e-03\n",
      "   1.79762665e-03   7.79643061e-05   1.49336162e-05   0.00000000e+00\n",
      "   0.00000000e+00   3.49774971e-03   2.97384964e-05   0.00000000e+00\n",
      "   3.36490480e-03   0.00000000e+00   1.39325740e-03   0.00000000e+00\n",
      "   1.23188593e-05   0.00000000e+00   0.00000000e+00   0.00000000e+00\n",
      "   0.00000000e+00   0.00000000e+00   2.05251609e-03   2.23656795e-05\n",
      "   2.63713465e-03   1.81129767e-02   5.24460254e-05   5.83412861e-03\n",
      "   0.00000000e+00   1.32376005e-04   0.00000000e+00   0.00000000e+00\n",
      "   0.00000000e+00   0.00000000e+00   0.00000000e+00   0.00000000e+00\n",
      "   0.00000000e+00   2.35629893e-04   0.00000000e+00   0.00000000e+00\n",
      "   2.44122949e-03   9.55312352e-05   0.00000000e+00   0.00000000e+00\n",
      "   0.00000000e+00   0.00000000e+00   0.00000000e+00   0.00000000e+00\n",
      "   2.39645517e-03   0.00000000e+00   6.07225768e-04   0.00000000e+00\n",
      "   0.00000000e+00   1.95722221e-06   3.74969815e-05   0.00000000e+00\n",
      "   0.00000000e+00   0.00000000e+00   0.00000000e+00   0.00000000e+00\n",
      "   0.00000000e+00   0.00000000e+00   2.66456950e-04   0.00000000e+00\n",
      "   3.90200004e-05   2.46160861e-03   2.41885833e-06   0.00000000e+00\n",
      "   0.00000000e+00   2.44277702e-04   0.00000000e+00   0.00000000e+00\n",
      "   0.00000000e+00   0.00000000e+00   0.00000000e+00   0.00000000e+00\n",
      "   2.21584192e-03   0.00000000e+00   1.05800413e-04   5.25148852e-04\n",
      "   1.09243291e-04   0.00000000e+00   0.00000000e+00   0.00000000e+00\n",
      "   6.51252028e-05   3.38743873e-03   2.42795673e-03   0.00000000e+00\n",
      "   0.00000000e+00   1.31133023e-02   0.00000000e+00   2.47788449e-05\n",
      "   0.00000000e+00   0.00000000e+00   0.00000000e+00   0.00000000e+00\n",
      "   1.72792017e-03   4.94594382e-04   0.00000000e+00   4.63499177e-05\n",
      "   9.19091367e-04   1.11251899e-03   1.27562042e-04   3.64556782e-05\n",
      "   0.00000000e+00   0.00000000e+00   0.00000000e+00   2.30988324e-03\n",
      "   0.00000000e+00   0.00000000e+00   0.00000000e+00   3.67812616e-04\n",
      "   1.39062193e-03   1.24189787e-05   0.00000000e+00   1.57624105e-03\n",
      "   0.00000000e+00   0.00000000e+00   6.83470901e-03   0.00000000e+00\n",
      "   0.00000000e+00   0.00000000e+00   0.00000000e+00   0.00000000e+00\n",
      "   2.90953616e-03   4.11487472e-03   0.00000000e+00   3.87445090e-03\n",
      "   0.00000000e+00   1.15524145e-03   0.00000000e+00   0.00000000e+00\n",
      "   0.00000000e+00   2.23913602e-05   0.00000000e+00   0.00000000e+00\n",
      "   0.00000000e+00   0.00000000e+00   0.00000000e+00   0.00000000e+00\n",
      "   7.05381283e-05   1.47305177e-02   0.00000000e+00   1.80188657e-03\n",
      "   3.74389081e-03   1.53766107e-04   0.00000000e+00   0.00000000e+00\n",
      "   0.00000000e+00   7.05528324e-07   0.00000000e+00   2.76504774e-02\n",
      "   0.00000000e+00   0.00000000e+00   2.67372559e-04   0.00000000e+00\n",
      "   0.00000000e+00   0.00000000e+00   9.34306953e-05   3.09561480e-05\n",
      "   0.00000000e+00   0.00000000e+00   0.00000000e+00   0.00000000e+00\n",
      "   0.00000000e+00   0.00000000e+00   5.93194401e-05   0.00000000e+00\n",
      "   0.00000000e+00   1.23517264e-03   0.00000000e+00   0.00000000e+00\n",
      "   2.47752602e-03   0.00000000e+00   6.75592443e-05   5.06209430e-05\n",
      "   2.00853637e-03   0.00000000e+00   0.00000000e+00   1.61815747e-03\n",
      "   2.37482295e-03   0.00000000e+00   0.00000000e+00   4.92429046e-02\n",
      "   0.00000000e+00   0.00000000e+00   6.84535789e-04   0.00000000e+00\n",
      "   5.46975783e-03   6.52340924e-04   1.44818764e-03   0.00000000e+00\n",
      "   0.00000000e+00   2.21566053e-04   0.00000000e+00   1.31264975e-04\n",
      "   0.00000000e+00   2.52707734e-03   0.00000000e+00   1.94101706e-03\n",
      "   0.00000000e+00   0.00000000e+00   0.00000000e+00   0.00000000e+00\n",
      "   0.00000000e+00   1.63547417e-04   0.00000000e+00   1.98440650e-03\n",
      "   0.00000000e+00   1.11102167e-05   1.37612300e-03   0.00000000e+00\n",
      "   1.51491736e-04   0.00000000e+00   2.28531931e-03   0.00000000e+00\n",
      "   3.20844384e-03   0.00000000e+00   0.00000000e+00   0.00000000e+00\n",
      "   7.93227275e-04   0.00000000e+00   2.95529151e-04   0.00000000e+00\n",
      "   0.00000000e+00   0.00000000e+00   1.58549956e-03   0.00000000e+00\n",
      "   0.00000000e+00   0.00000000e+00   8.55572864e-05   0.00000000e+00\n",
      "   0.00000000e+00   1.93782183e-05   7.56659603e-04   8.03897295e-04\n",
      "   0.00000000e+00   0.00000000e+00   0.00000000e+00   1.64234126e-05\n",
      "   1.24982353e-02   0.00000000e+00   5.51359248e-03   4.61091162e-06\n",
      "   2.32097977e-03   0.00000000e+00   3.22183466e-03   0.00000000e+00\n",
      "   1.96990678e-03   0.00000000e+00   0.00000000e+00   0.00000000e+00\n",
      "   0.00000000e+00   2.60442320e-03   0.00000000e+00   0.00000000e+00\n",
      "   0.00000000e+00   0.00000000e+00   0.00000000e+00   0.00000000e+00\n",
      "   0.00000000e+00   0.00000000e+00   0.00000000e+00   0.00000000e+00\n",
      "   0.00000000e+00   5.74502899e-04   0.00000000e+00   1.49172905e-03\n",
      "   2.54175537e-06   0.00000000e+00   6.72525833e-05   0.00000000e+00\n",
      "   0.00000000e+00   0.00000000e+00   0.00000000e+00   6.37950916e-05\n",
      "   0.00000000e+00   0.00000000e+00   1.26800117e-04   1.46677666e-03\n",
      "   0.00000000e+00   2.46124721e-02   9.90457593e-05   0.00000000e+00\n",
      "   5.58137092e-04   0.00000000e+00   1.46364018e-04   0.00000000e+00\n",
      "   1.01794152e-04   0.00000000e+00   0.00000000e+00   3.14617572e-05\n",
      "   0.00000000e+00   0.00000000e+00   5.99531252e-03   0.00000000e+00\n",
      "   0.00000000e+00   0.00000000e+00   2.05016251e-03   9.62697195e-03\n",
      "   7.32805025e-05   2.21538661e-04   2.65133593e-03   0.00000000e+00\n",
      "   0.00000000e+00   0.00000000e+00   1.01031044e-03   3.59356310e-05\n",
      "   0.00000000e+00   0.00000000e+00   1.29809348e-03   2.61222809e-03\n",
      "   0.00000000e+00   0.00000000e+00   0.00000000e+00   0.00000000e+00\n",
      "   1.97436437e-03   0.00000000e+00   0.00000000e+00   0.00000000e+00\n",
      "   0.00000000e+00   0.00000000e+00   0.00000000e+00   0.00000000e+00\n",
      "   0.00000000e+00   5.66630923e-03   2.47907913e-03   2.52777311e-04\n",
      "   0.00000000e+00   1.77576008e-03   0.00000000e+00   0.00000000e+00\n",
      "   2.76929394e-03   0.00000000e+00   0.00000000e+00   0.00000000e+00\n",
      "   0.00000000e+00   0.00000000e+00   7.65353157e-05   0.00000000e+00\n",
      "   0.00000000e+00   0.00000000e+00   1.53734416e-03   0.00000000e+00\n",
      "   2.18258823e-03   0.00000000e+00   0.00000000e+00   0.00000000e+00\n",
      "   6.35531752e-04   0.00000000e+00   0.00000000e+00   0.00000000e+00\n",
      "   1.93782183e-05   0.00000000e+00   0.00000000e+00   0.00000000e+00\n",
      "   0.00000000e+00   1.04481480e-03   0.00000000e+00   8.69512773e-04\n",
      "   0.00000000e+00   1.29138382e-04   0.00000000e+00   0.00000000e+00\n",
      "   0.00000000e+00   0.00000000e+00   0.00000000e+00   0.00000000e+00\n",
      "   0.00000000e+00   0.00000000e+00   0.00000000e+00   0.00000000e+00\n",
      "   0.00000000e+00   0.00000000e+00   0.00000000e+00   9.47604559e-06\n",
      "   1.61667338e-04   0.00000000e+00   0.00000000e+00   0.00000000e+00\n",
      "   0.00000000e+00   0.00000000e+00   1.06337004e-03   2.09127999e-03\n",
      "   0.00000000e+00   0.00000000e+00   0.00000000e+00   1.42996659e-03\n",
      "   0.00000000e+00   0.00000000e+00   0.00000000e+00   0.00000000e+00\n",
      "   0.00000000e+00   0.00000000e+00   0.00000000e+00   0.00000000e+00\n",
      "   0.00000000e+00   0.00000000e+00   1.33472888e-03   2.98697700e-06\n",
      "   1.59596980e-03   0.00000000e+00   0.00000000e+00   0.00000000e+00\n",
      "   7.63338568e-06   0.00000000e+00   0.00000000e+00   0.00000000e+00\n",
      "   0.00000000e+00   3.59528033e-03   0.00000000e+00   0.00000000e+00\n",
      "   1.04476063e-03   6.08392624e-05   0.00000000e+00   0.00000000e+00\n",
      "   0.00000000e+00   0.00000000e+00   7.85479725e-05   9.93847513e-04\n",
      "   1.37384050e-03   0.00000000e+00   0.00000000e+00   0.00000000e+00\n",
      "   0.00000000e+00   0.00000000e+00   0.00000000e+00   0.00000000e+00\n",
      "   0.00000000e+00   0.00000000e+00   0.00000000e+00   0.00000000e+00\n",
      "   0.00000000e+00   0.00000000e+00   1.23640530e-05   0.00000000e+00\n",
      "   0.00000000e+00   0.00000000e+00   0.00000000e+00   0.00000000e+00\n",
      "   0.00000000e+00   0.00000000e+00   2.52529657e-04   0.00000000e+00\n",
      "   0.00000000e+00   0.00000000e+00   0.00000000e+00   0.00000000e+00\n",
      "   0.00000000e+00   0.00000000e+00   5.82290792e-04   0.00000000e+00\n",
      "   0.00000000e+00   0.00000000e+00   0.00000000e+00   0.00000000e+00\n",
      "   0.00000000e+00   0.00000000e+00   0.00000000e+00   0.00000000e+00\n",
      "   3.39360312e-03   0.00000000e+00   0.00000000e+00   0.00000000e+00\n",
      "   0.00000000e+00   1.48327822e-03   0.00000000e+00   3.06427773e-03\n",
      "   0.00000000e+00   0.00000000e+00   0.00000000e+00   0.00000000e+00\n",
      "   0.00000000e+00   0.00000000e+00   0.00000000e+00   0.00000000e+00\n",
      "   0.00000000e+00   0.00000000e+00   0.00000000e+00   0.00000000e+00\n",
      "   2.09718719e-03   0.00000000e+00   4.83446361e-04   0.00000000e+00\n",
      "   0.00000000e+00   0.00000000e+00   0.00000000e+00   0.00000000e+00\n",
      "   0.00000000e+00   7.83948320e-07   0.00000000e+00   0.00000000e+00\n",
      "   0.00000000e+00   0.00000000e+00   1.15531352e-05   0.00000000e+00\n",
      "   0.00000000e+00   0.00000000e+00   0.00000000e+00   0.00000000e+00\n",
      "   1.30545320e-03   0.00000000e+00   0.00000000e+00   0.00000000e+00\n",
      "   0.00000000e+00   0.00000000e+00   2.67038752e-03   0.00000000e+00\n",
      "   0.00000000e+00   0.00000000e+00   0.00000000e+00   0.00000000e+00\n",
      "   0.00000000e+00   0.00000000e+00   1.45204983e-03   7.43807527e-04\n",
      "   0.00000000e+00   4.00258393e-05   6.64373497e-04   3.93651692e-03\n",
      "   0.00000000e+00   1.42284907e-05   0.00000000e+00   0.00000000e+00\n",
      "   6.16386247e-04   0.00000000e+00   0.00000000e+00   0.00000000e+00\n",
      "   0.00000000e+00   0.00000000e+00   0.00000000e+00   0.00000000e+00\n",
      "   1.62222171e-03   2.95070752e-03   0.00000000e+00   0.00000000e+00\n",
      "   0.00000000e+00   0.00000000e+00   0.00000000e+00   0.00000000e+00\n",
      "   0.00000000e+00   0.00000000e+00   0.00000000e+00   0.00000000e+00\n",
      "   0.00000000e+00   6.89280518e-03   0.00000000e+00   2.57890586e-04\n",
      "   9.25496981e-04   0.00000000e+00   0.00000000e+00   2.18015799e-04\n",
      "   0.00000000e+00   0.00000000e+00   0.00000000e+00   0.00000000e+00\n",
      "   0.00000000e+00   0.00000000e+00   0.00000000e+00   0.00000000e+00\n",
      "   8.45445267e-04   0.00000000e+00   0.00000000e+00   0.00000000e+00\n",
      "   0.00000000e+00   0.00000000e+00   0.00000000e+00   0.00000000e+00\n",
      "   0.00000000e+00   0.00000000e+00   0.00000000e+00   0.00000000e+00\n",
      "   0.00000000e+00   1.61388118e-03   0.00000000e+00   2.09429732e-03\n",
      "   0.00000000e+00   5.09216113e-08   4.59992775e-03   0.00000000e+00\n",
      "   0.00000000e+00   0.00000000e+00   1.31362439e-03   0.00000000e+00\n",
      "   0.00000000e+00   0.00000000e+00   1.29982748e-04   0.00000000e+00\n",
      "   5.13681198e-04   1.34070613e-05   0.00000000e+00   0.00000000e+00\n",
      "   9.74368807e-04   0.00000000e+00   3.40840663e-03   0.00000000e+00\n",
      "   0.00000000e+00   0.00000000e+00   0.00000000e+00   0.00000000e+00\n",
      "   0.00000000e+00   0.00000000e+00   0.00000000e+00   0.00000000e+00\n",
      "   8.13635380e-04   0.00000000e+00   0.00000000e+00   0.00000000e+00\n",
      "   2.97103724e-03   0.00000000e+00   0.00000000e+00   0.00000000e+00\n",
      "   1.97930104e-03   0.00000000e+00   0.00000000e+00   0.00000000e+00\n",
      "   0.00000000e+00   0.00000000e+00   0.00000000e+00   0.00000000e+00\n",
      "   0.00000000e+00   0.00000000e+00   1.41154005e-04   0.00000000e+00\n",
      "   1.40784732e-02   0.00000000e+00   1.60707287e-04   6.87118307e-05\n",
      "   5.00897623e-04   0.00000000e+00   0.00000000e+00   1.73873103e-03\n",
      "   1.37820958e-03   0.00000000e+00   0.00000000e+00   1.35064166e-03\n",
      "   0.00000000e+00   0.00000000e+00   5.41113510e-03   3.45065750e-05\n",
      "   0.00000000e+00   3.21202826e-03   0.00000000e+00   2.76733635e-04\n",
      "   4.45976865e-04   0.00000000e+00   5.88841088e-04   8.78472075e-04\n",
      "   0.00000000e+00   0.00000000e+00   0.00000000e+00   0.00000000e+00\n",
      "   0.00000000e+00   6.84383210e-04   0.00000000e+00   9.25098414e-04\n",
      "   0.00000000e+00   0.00000000e+00   0.00000000e+00   0.00000000e+00\n",
      "   0.00000000e+00   1.46454314e-02   2.18601116e-04   5.94370218e-03\n",
      "   3.46094813e-03   0.00000000e+00   4.79315220e-04   2.08230854e-05\n",
      "   0.00000000e+00   0.00000000e+00   0.00000000e+00   6.49140436e-03\n",
      "   3.21208725e-04]\n"
     ]
    }
   ],
   "source": [
    "from sklearn.ensemble import RandomForestClassifier\n",
    "\n",
    "\n",
    "max_depth=[2,4,8,16,32,64]\n",
    "ntrees = [4,8,16,32]\n",
    "max_features = [0.1,0.2,0.3,0.5,0.9]\n",
    "parameters = {'max_depth':max_depth, 'n_estimators':ntrees,'max_features':max_features}\n",
    "\n",
    "\n",
    "model =  RandomForestClassifier(max_depth=10, n_estimators=100, max_features=1)\n",
    "clfRF = GridSearchCV(model, parameters,return_train_score=True)\n",
    "clfRF.fit(X_train, y_train)\n",
    "score = clfRF.score(X_test, y_test)\n",
    "clfRF.fit(X_train, y_train)\n",
    "print('Accuracy:{},Best parameters:{}, feature importance:{}'.format(score,clfRF.best_params_,clfRF.best_estimator_.feature_importances_))\n"
   ]
  },
  {
   "cell_type": "code",
   "execution_count": 104,
   "metadata": {},
   "outputs": [],
   "source": [
    "clfRF = RandomForestClassifier(max_depth=16, n_estimators=32, max_features=.3)\n",
    "clfRF.fit(X_train, y_train)\n",
    "y_pred= clfRF.predict(X_test)"
   ]
  },
  {
   "cell_type": "code",
   "execution_count": 105,
   "metadata": {},
   "outputs": [
    {
     "name": "stdout",
     "output_type": "stream",
     "text": [
      "[[3230  104]\n",
      " [ 591   75]]\n",
      "Normalized confusion matrix\n",
      "[[ 0.96880624  0.03119376]\n",
      " [ 0.88738739  0.11261261]]\n"
     ]
    },
    {
     "data": {
      "image/png": "[encoded data removed]",
      "text/plain": [
       "<matplotlib.figure.Figure at 0x14e28c5cdd8>"
      ]
     },
     "metadata": {},
     "output_type": "display_data"
    }
   ],
   "source": [
    "y_predRF = clfRF.predict(X_test)\n",
    "cm = confusion_matrix(y_test, y_predRF)\n",
    "cm_normalized = cm.astype('float') / cm.sum(axis=1)[:, np.newaxis]\n",
    "print(cm)\n",
    "\n",
    "def plot_confusion_matrix(cm, classes,\n",
    "                          normalize=False,\n",
    "                          title='Confusion matrix',\n",
    "                          cmap=plt.cm.Blues):\n",
    "    \"\"\"\n",
    "    This function prints and plots the confusion matrix.\n",
    "    Normalization can be applied by setting `normalize=True`.\n",
    "    \"\"\"\n",
    "    if normalize:\n",
    "        cm = cm.astype('float') / cm.sum(axis=1)[:, np.newaxis]\n",
    "        print(\"Normalized confusion matrix\")\n",
    "    else:\n",
    "        print('Confusion matrix, without normalization')\n",
    "\n",
    "    print(cm)\n",
    "\n",
    "    plt.imshow(cm, interpolation='nearest', cmap=cmap)\n",
    "    plt.title(title)\n",
    "    plt.colorbar()\n",
    "    tick_marks = np.arange(len(classes))\n",
    "    plt.xticks(tick_marks, classes, rotation=45)\n",
    "    plt.yticks(tick_marks, classes)\n",
    "\n",
    "    fmt = '.2f' if normalize else 'd'\n",
    "    thresh = cm.max() / 2.\n",
    "    for i, j in itertools.product(range(cm.shape[0]), range(cm.shape[1])):\n",
    "        plt.text(j, i, format(cm[i, j], fmt),\n",
    "                 horizontalalignment=\"center\",\n",
    "                 color=\"white\" if cm[i, j] > thresh else \"black\")\n",
    "\n",
    "    plt.tight_layout()\n",
    "    plt.ylabel('True label')\n",
    "    plt.xlabel('Predicted label')\n",
    "\n",
    "plot_confusion_matrix(cm,[0,1],normalize=True)\n",
    "\n",
    "\n",
    "from sklearn.utils import shuffle\n",
    "from sklearn.metrics import roc_curve, auc\n",
    "\n",
    "def ROC(label,result):\n",
    "    # Compute ROC curve and area the curve\n",
    "    Y = np.array(label)\n",
    "    fpr, tpr, thresholds = roc_curve(Y, result)\n",
    "    roc_auc = auc(fpr, tpr)\n",
    "    print(\"Area under the ROC curve : %f\" % roc_auc)\n",
    "\n",
    "    # Plot ROC curve\n",
    "    #pl.clf()\n",
    "    plt.plot(fpr, tpr, label='ROC curve (area = %0.2f)' % roc_auc)\n",
    "    plt.plot([0, 1], [0, 1], 'k--')\n",
    "    plt.xlim([0.0, 1.0])\n",
    "    plt.ylim([0.0, 1.0])\n",
    "    plt.xlabel('False Positive Rate')\n",
    "    plt.ylabel('True Positive Rate')\n",
    "    plt.title('Receiver operating characteristic')\n",
    "    plt.legend(loc=\"lower right\")\n",
    "    plt.show()"
   ]
  },
  {
   "cell_type": "code",
   "execution_count": 106,
   "metadata": {},
   "outputs": [
    {
     "name": "stdout",
     "output_type": "stream",
     "text": [
      "Area under the ROC curve : 0.686444\n"
     ]
    },
    {
     "data": {
      "image/png": "[encoded data removed]",
      "text/plain": [
       "<matplotlib.figure.Figure at 0x14e2a114a58>"
      ]
     },
     "metadata": {},
     "output_type": "display_data"
    }
   ],
   "source": [
    "y_scoreRF = clfRF.predict_proba(X_test)[:,1]\n",
    "ROC(y_test,y_scoreRF)"
   ]
  },
  {
   "cell_type": "code",
   "execution_count": 107,
   "metadata": {},
   "outputs": [
    {
     "name": "stdout",
     "output_type": "stream",
     "text": [
      "             precision    recall  f1-score   support\n",
      "\n",
      "          0       0.85      0.97      0.90      3334\n",
      "          1       0.42      0.11      0.18       666\n",
      "\n",
      "avg / total       0.77      0.83      0.78      4000\n",
      "\n",
      "0.146699910598\n"
     ]
    }
   ],
   "source": [
    "from sklearn.metrics import classification_report\n",
    "from sklearn.metrics import matthews_corrcoef\n",
    "print(classification_report(y_test,y_predRF))\n",
    "\n",
    "print(matthews_corrcoef(y_test,y_predRF))"
   ]
  },
  {
   "cell_type": "code",
   "execution_count": 108,
   "metadata": {},
   "outputs": [
    {
     "name": "stdout",
     "output_type": "stream",
     "text": [
      "Average precision-recall score: 0.30\n"
     ]
    }
   ],
   "source": [
    "from sklearn.metrics import average_precision_score\n",
    "average_precision = average_precision_score(y_test, y_scoreRF)\n",
    "\n",
    "print('Average precision-recall score: {0:0.2f}'.format(\n",
    "      average_precision))"
   ]
  },
  {
   "cell_type": "code",
   "execution_count": 109,
   "metadata": {},
   "outputs": [
    {
     "data": {
      "text/plain": [
       "Text(0.5,1,'2-class Precision-Recall curve: AP=0.30')"
      ]
     },
     "execution_count": 109,
     "metadata": {},
     "output_type": "execute_result"
    },
    {
     "data": {
      "image/png": "[encoded data removed]",
      "text/plain": [
       "<matplotlib.figure.Figure at 0x14e2ecb9ac8>"
      ]
     },
     "metadata": {},
     "output_type": "display_data"
    }
   ],
   "source": [
    "from sklearn.metrics import precision_recall_curve\n",
    "import matplotlib.pyplot as plt\n",
    "\n",
    "precision, recall, _ = precision_recall_curve(y_test, y_scoreRF)\n",
    "\n",
    "plt.step(recall, precision, color='b', alpha=0.2,\n",
    "         where='post')\n",
    "plt.fill_between(recall, precision, step='post', alpha=0.2,\n",
    "                 color='b')\n",
    "\n",
    "plt.xlabel('Recall')\n",
    "plt.ylabel('Precision')\n",
    "plt.ylim([0.0, 1.05])\n",
    "plt.xlim([0.0, 1.0])\n",
    "plt.title('2-class Precision-Recall curve: AP={0:0.2f}'.format(\n",
    "          average_precision))"
   ]
  },
  {
   "cell_type": "markdown",
   "metadata": {},
   "source": [
    "# Part 5: Gradient Boosting Tree\n",
    "Please try to implement the xgboost library to this dataset. \n",
    "1. Please use cross-validation to select the best tuning parameters\n",
    "2. Please plot the ROC curve and compute the area under the ROC curve. \n",
    "3. Please plot the precision recall curve and compute the average precision\n",
    "4. Please compute the F1-score and confusion matrix"
   ]
  },
  {
   "cell_type": "code",
   "execution_count": 20,
   "metadata": {},
   "outputs": [
    {
     "name": "stdout",
     "output_type": "stream",
     "text": [
      "Requirement already satisfied: xgboost in c:\\users\\makaranda\\anaconda3\\lib\\site-packages\n",
      "Requirement already satisfied: scipy in c:\\users\\makaranda\\anaconda3\\lib\\site-packages (from xgboost)\n",
      "Requirement already satisfied: numpy in c:\\users\\makaranda\\anaconda3\\lib\\site-packages (from xgboost)\n"
     ]
    }
   ],
   "source": [
    "!pip install xgboost"
   ]
  },
  {
   "cell_type": "code",
   "execution_count": 98,
   "metadata": {
    "collapsed": true
   },
   "outputs": [],
   "source": [
    "from xgboost import XGBClassifier\n"
   ]
  },
  {
   "cell_type": "code",
   "execution_count": null,
   "metadata": {
    "collapsed": true
   },
   "outputs": [],
   "source": [
    "param_test1 = {\n",
    " 'max_depth':range(3,10,2),\n",
    " 'min_child_weight':range(1,6,2)\n",
    "}\n",
    "\n",
    "gsearch1 = GridSearchCV(estimator = XGBClassifier( learning_rate =0.1, n_estimators=140, max_depth=5,\n",
    " min_child_weight=1, gamma=0, subsample=0.8, colsample_bytree=0.8,\n",
    " objective= 'binary:logistic', nthread=4, scale_pos_weight=1, seed=27), \n",
    " param_grid = param_test1, scoring='accuracy',n_jobs=4, cv=5)\n",
    "\n",
    "param_test3 = {\n",
    " 'gamma':[i/10.0 for i in range(0,5)]\n",
    "}\n",
    "\n",
    "gsearch1.fit(X_train, y_train)\n",
    "score = gsearch1.score(X_test, y_test)\n",
    "gsearch2 = GridSearchCV(estimator = XGBClassifier( learning_rate =0.1, n_estimators=140,max_depth=gsearch1.best_params_['max_depth'], min_child_weight=gsearch1.best_params_['min_child_weight'], gamma=0, subsample=0.8, colsample_bytree=0.8, objective= 'binary:logistic', nthread=4, scale_pos_weight=1,seed=27),  param_grid = param_test3, scoring='accuracy',n_jobs=4, cv=5)\n",
    "gsearch2.fit(X_train, y_train)\n",
    "score = gsearch2.score(X_test, y_test)    \n",
    "print('Accuracy:{}, feature importance:{}'.format(score,gsearch2.best_estimator_.feature_importances_))"
   ]
  },
  {
   "cell_type": "code",
   "execution_count": 110,
   "metadata": {
    "scrolled": true
   },
   "outputs": [
    {
     "name": "stdout",
     "output_type": "stream",
     "text": [
      " Best Tuning Parameters\n",
      "{'max_depth': 5, 'min_child_weight': 1}\n"
     ]
    }
   ],
   "source": [
    "print(' Best Tuning Parameters')\n",
    "print(gsearch1.best_params_)"
   ]
  },
  {
   "cell_type": "code",
   "execution_count": 111,
   "metadata": {},
   "outputs": [
    {
     "name": "stdout",
     "output_type": "stream",
     "text": [
      " Best Tuning Parameters\n",
      "{'gamma': 0.4}\n"
     ]
    }
   ],
   "source": [
    "print(' Best Tuning Parameters')\n",
    "print(gsearch2.best_params_)"
   ]
  },
  {
   "cell_type": "code",
   "execution_count": 118,
   "metadata": {},
   "outputs": [],
   "source": [
    "XGB = XGBClassifier(learning_rate =0.1, n_estimators=140, max_depth=5, \n",
    "                    min_child_weight=1, gamma=0.4, subsample=0.8, \n",
    "                    colsample_bytree=0.8, objective= 'binary:logistic', nthread=4, scale_pos_weight=1,seed=27)"
   ]
  },
  {
   "cell_type": "code",
   "execution_count": 120,
   "metadata": {},
   "outputs": [
    {
     "name": "stdout",
     "output_type": "stream",
     "text": [
      "[[3266   68]\n",
      " [ 608   58]]\n",
      "Normalized confusion matrix\n",
      "[[ 0.97960408  0.02039592]\n",
      " [ 0.91291291  0.08708709]]\n"
     ]
    },
    {
     "data": {
      "image/png": "[encoded data removed]",
      "text/plain": [
       "<matplotlib.figure.Figure at 0x14e2a069908>"
      ]
     },
     "metadata": {},
     "output_type": "display_data"
    }
   ],
   "source": [
    "XGB.fit(X_train, y_train)\n",
    "y_predXGB = XGB.predict(X_test)\n",
    "cm = confusion_matrix(y_test, y_predXGB)\n",
    "cm_normalized = cm.astype('float') / cm.sum(axis=1)[:, np.newaxis]\n",
    "print(cm)\n",
    "\n",
    "\n",
    "def plot_confusion_matrix(cm, classes,\n",
    "                          normalize=False,\n",
    "                          title='Confusion matrix',\n",
    "                          cmap=plt.cm.Blues):\n",
    "    \"\"\"\n",
    "    This function prints and plots the confusion matrix.\n",
    "    Normalization can be applied by setting `normalize=True`.\n",
    "    \"\"\"\n",
    "    if normalize:\n",
    "        cm = cm.astype('float') / cm.sum(axis=1)[:, np.newaxis]\n",
    "        print(\"Normalized confusion matrix\")\n",
    "    else:\n",
    "        print('Confusion matrix, without normalization')\n",
    "\n",
    "    print(cm)\n",
    "\n",
    "    plt.imshow(cm, interpolation='nearest', cmap=cmap)\n",
    "    plt.title(title)\n",
    "    plt.colorbar()\n",
    "    tick_marks = np.arange(len(classes))\n",
    "    plt.xticks(tick_marks, classes, rotation=45)\n",
    "    plt.yticks(tick_marks, classes)\n",
    "\n",
    "    fmt = '.2f' if normalize else 'd'\n",
    "    thresh = cm.max() / 2.\n",
    "    for i, j in itertools.product(range(cm.shape[0]), range(cm.shape[1])):\n",
    "        plt.text(j, i, format(cm[i, j], fmt),\n",
    "                 horizontalalignment=\"center\",\n",
    "                 color=\"white\" if cm[i, j] > thresh else \"black\")\n",
    "\n",
    "    plt.tight_layout()\n",
    "    plt.ylabel('True label')\n",
    "    plt.xlabel('Predicted label')\n",
    "\n",
    "plot_confusion_matrix(cm,[0,1],normalize=True)\n",
    "\n",
    "\n",
    "from sklearn.utils import shuffle\n",
    "from sklearn.metrics import roc_curve, auc\n",
    "\n",
    "def ROC(label,result):\n",
    "    # Compute ROC curve and area the curve\n",
    "    Y = np.array(label)\n",
    "    fpr, tpr, thresholds = roc_curve(Y, result)\n",
    "    roc_auc = auc(fpr, tpr)\n",
    "    print(\"Area under the ROC curve : %f\" % roc_auc)\n",
    "\n",
    "    # Plot ROC curve\n",
    "    #pl.clf()\n",
    "    plt.plot(fpr, tpr, label='ROC curve (area = %0.2f)' % roc_auc)\n",
    "    plt.plot([0, 1], [0, 1], 'k--')\n",
    "    plt.xlim([0.0, 1.0])\n",
    "    plt.ylim([0.0, 1.0])\n",
    "    plt.xlabel('False Positive Rate')\n",
    "    plt.ylabel('True Positive Rate')\n",
    "    plt.title('Receiver operating characteristic')\n",
    "    plt.legend(loc=\"lower right\")\n",
    "    plt.show()"
   ]
  },
  {
   "cell_type": "code",
   "execution_count": 121,
   "metadata": {},
   "outputs": [
    {
     "name": "stdout",
     "output_type": "stream",
     "text": [
      "Area under the ROC curve : 0.693287\n"
     ]
    },
    {
     "data": {
      "image/png": "[encoded data removed]",
      "text/plain": [
       "<matplotlib.figure.Figure at 0x14e2a1c51d0>"
      ]
     },
     "metadata": {},
     "output_type": "display_data"
    }
   ],
   "source": [
    "y_scoreXGB = XGB.predict_proba(X_test)[:,1]\n",
    "ROC(y_test,y_scoreXGB)"
   ]
  },
  {
   "cell_type": "code",
   "execution_count": 122,
   "metadata": {},
   "outputs": [
    {
     "name": "stdout",
     "output_type": "stream",
     "text": [
      "             precision    recall  f1-score   support\n",
      "\n",
      "          0       0.84      0.98      0.91      3334\n",
      "          1       0.46      0.09      0.15       666\n",
      "\n",
      "avg / total       0.78      0.83      0.78      4000\n",
      "\n",
      "0.142240458602\n"
     ]
    }
   ],
   "source": [
    "print(classification_report(y_test,y_predXGB))\n",
    "\n",
    "print(matthews_corrcoef(y_test,y_predXGB))"
   ]
  },
  {
   "cell_type": "code",
   "execution_count": 123,
   "metadata": {},
   "outputs": [
    {
     "name": "stdout",
     "output_type": "stream",
     "text": [
      "Average precision-recall score: 0.31\n"
     ]
    }
   ],
   "source": [
    "from sklearn.metrics import average_precision_score\n",
    "average_precision = average_precision_score(y_test, y_scoreXGB)\n",
    "\n",
    "print('Average precision-recall score: {0:0.2f}'.format(\n",
    "      average_precision))"
   ]
  },
  {
   "cell_type": "code",
   "execution_count": 124,
   "metadata": {},
   "outputs": [
    {
     "data": {
      "text/plain": [
       "Text(0.5,1,'2-class Precision-Recall curve: AP=0.31')"
      ]
     },
     "execution_count": 124,
     "metadata": {},
     "output_type": "execute_result"
    },
    {
     "data": {
      "image/png": "[encoded data removed]",
      "text/plain": [
       "<matplotlib.figure.Figure at 0x14e2a1c5c88>"
      ]
     },
     "metadata": {},
     "output_type": "display_data"
    }
   ],
   "source": [
    "precision, recall, _ = precision_recall_curve(y_test, y_scoreXGB)\n",
    "\n",
    "plt.step(recall, precision, color='b', alpha=0.2,\n",
    "         where='post')\n",
    "plt.fill_between(recall, precision, step='post', alpha=0.2,\n",
    "                 color='b')\n",
    "\n",
    "plt.xlabel('Recall')\n",
    "plt.ylabel('Precision')\n",
    "plt.ylim([0.0, 1.05])\n",
    "plt.xlim([0.0, 1.0])\n",
    "plt.title('2-class Precision-Recall curve: AP={0:0.2f}'.format(\n",
    "          average_precision))"
   ]
  }
 ],
 "metadata": {
  "kernelspec": {
   "display_name": "Python 3",
   "language": "python",
   "name": "python3"
  },
  "language_info": {
   "codemirror_mode": {
    "name": "ipython",
    "version": 3
   },
   "file_extension": ".py",
   "mimetype": "text/x-python",
   "name": "python",
   "nbconvert_exporter": "python",
   "pygments_lexer": "ipython3",
   "version": "3.6.3"
  }
 },
 "nbformat": 4,
 "nbformat_minor": 2
}
